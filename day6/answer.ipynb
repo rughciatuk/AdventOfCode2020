{
 "cells": [
  {
   "cell_type": "code",
   "execution_count": 5,
   "source": [
    "with open('./input') as input_file:\n",
    "    data = input_file.read()"
   ],
   "outputs": [],
   "metadata": {}
  },
  {
   "cell_type": "code",
   "execution_count": 7,
   "source": [
    "groups = data.split(\"\\n\\n\")"
   ],
   "outputs": [],
   "metadata": {}
  },
  {
   "cell_type": "code",
   "execution_count": 13,
   "source": [
    "sum = 0\n",
    "for group in groups:\n",
    "    answers = set(group)\n",
    "    answers.discard('\\n')\n",
    "    sum += len(answers)\n",
    "print(\"Part1 answer:\", sum)\n"
   ],
   "outputs": [
    {
     "output_type": "stream",
     "name": "stdout",
     "text": [
      "Part1 answer: 6416\n"
     ]
    }
   ],
   "metadata": {}
  },
  {
   "cell_type": "code",
   "execution_count": 20,
   "source": [
    "sum = 0\n",
    "for group in groups:\n",
    "    answers = set(group)\n",
    "    answers.discard('\\n')\n",
    "\n",
    "    for line in group.split('\\n'):\n",
    "        if len(line) == 0:\n",
    "            continue\n",
    "        for ans in list(answers):\n",
    "            if ans not in line:\n",
    "                answers.discard(ans)\n",
    "    sum += len(answers)\n",
    "print(\"Part2 answer:\", sum)"
   ],
   "outputs": [
    {
     "output_type": "stream",
     "name": "stdout",
     "text": [
      "Part2 answer: 3050\n"
     ]
    }
   ],
   "metadata": {}
  }
 ],
 "metadata": {
  "orig_nbformat": 4,
  "language_info": {
   "name": "python",
   "version": "3.8.10",
   "mimetype": "text/x-python",
   "codemirror_mode": {
    "name": "ipython",
    "version": 3
   },
   "pygments_lexer": "ipython3",
   "nbconvert_exporter": "python",
   "file_extension": ".py"
  },
  "kernelspec": {
   "name": "python3",
   "display_name": "Python 3.8.10 64-bit ('.venv': venv)"
  },
  "interpreter": {
   "hash": "656217faa24169005566d946f1b243113add4565c205247ef591cf35299186fd"
  }
 },
 "nbformat": 4,
 "nbformat_minor": 2
}