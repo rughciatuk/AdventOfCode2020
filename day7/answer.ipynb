{
 "cells": [
  {
   "cell_type": "code",
   "execution_count": 96,
   "source": [
    "from anytree import Node, RenderTree\n",
    "import re"
   ],
   "outputs": [],
   "metadata": {}
  },
  {
   "cell_type": "code",
   "execution_count": 97,
   "source": [
    "with open('./input') as input_file:\n",
    "    data = input_file.read()"
   ],
   "outputs": [],
   "metadata": {}
  },
  {
   "cell_type": "code",
   "execution_count": 66,
   "source": [
    "MATCH_BAG_REGEX = re.compile(r\"\\s*(\\d)?\\s?(\\w+\\s\\w+)\")\n",
    "\n",
    "color_dict = {}\n",
    "\n",
    "for line in data.splitlines():\n",
    "    temp = line.split(\" contain\")\n",
    "    groups = []\n",
    "    groups.append(temp[0])\n",
    "    groups += temp[1].split(', ')\n",
    "    father = MATCH_BAG_REGEX.match(groups[0]).group(2)\n",
    "\n",
    "    color_dict[father] = []\n",
    "    if groups[1] == \" no other bags.\":\n",
    "        continue\n",
    "\n",
    "    for son in groups[1:]:\n",
    "        son_color = MATCH_BAG_REGEX.match(son).group(2)\n",
    "        color_dict[father].append(son_color)\n"
   ],
   "outputs": [],
   "metadata": {}
  },
  {
   "cell_type": "code",
   "execution_count": 67,
   "source": [
    "def check_color_end(color_dict, colors):\n",
    "    COLOR_END = \"shiny gold\"\n",
    "\n",
    "    if COLOR_END in colors:\n",
    "        return True\n",
    "    elif len(colors) == 0:\n",
    "        return False\n",
    "    else:\n",
    "        return any((check_color_end(color_dict, color_dict[color]) for color in colors))\n"
   ],
   "outputs": [],
   "metadata": {}
  },
  {
   "cell_type": "code",
   "execution_count": 69,
   "source": [
    "print(\"Part 1 answer:\",sum(map(lambda x: check_color_end(color_dict, color_dict[x]), color_dict)))"
   ],
   "outputs": [
    {
     "output_type": "stream",
     "name": "stdout",
     "text": [
      "Part 1 answer: 224\n"
     ]
    }
   ],
   "metadata": {}
  },
  {
   "cell_type": "markdown",
   "source": [
    "Here We will build children of them all"
   ],
   "metadata": {}
  },
  {
   "cell_type": "code",
   "execution_count": 98,
   "source": [
    "MATCH_BAG_REGEX = re.compile(r\"\\s*(\\d)?\\s?(\\w+\\s\\w+)\")\n",
    "\n",
    "color_dict = {}\n",
    "\n",
    "for line in data.splitlines():\n",
    "    temp = line.split(\" contain\")\n",
    "    groups = []\n",
    "    groups.append(temp[0])\n",
    "    groups += temp[1].split(', ')\n",
    "    father = MATCH_BAG_REGEX.match(groups[0]).group(2)\n",
    "\n",
    "    color_dict[father] = []\n",
    "    if groups[1] == \" no other bags.\":\n",
    "        continue\n",
    "\n",
    "    for son in groups[1:]:\n",
    "        (son_number, son_color) = MATCH_BAG_REGEX.match(son).groups()\n",
    "        color_dict[father].append((int(son_number),son_color))"
   ],
   "outputs": [],
   "metadata": {}
  },
  {
   "cell_type": "code",
   "execution_count": 99,
   "source": [
    "def cal_bags(color_dict, colors):\n",
    "    if colors == []:\n",
    "        return 1\n",
    "    else:\n",
    "        return sum(map(lambda bag: bag[0]*cal_bags(color_dict, color_dict[bag[1]]), colors)) +1"
   ],
   "outputs": [],
   "metadata": {}
  },
  {
   "cell_type": "code",
   "execution_count": 100,
   "source": [
    "print(\"Part 2 answer:\", cal_bags(color_dict, color_dict[\"shiny gold\"]) -1)"
   ],
   "outputs": [
    {
     "output_type": "stream",
     "name": "stdout",
     "text": [
      "Part 2 answer: 1488\n"
     ]
    }
   ],
   "metadata": {}
  }
 ],
 "metadata": {
  "orig_nbformat": 4,
  "language_info": {
   "name": "python",
   "version": "3.8.10",
   "mimetype": "text/x-python",
   "codemirror_mode": {
    "name": "ipython",
    "version": 3
   },
   "pygments_lexer": "ipython3",
   "nbconvert_exporter": "python",
   "file_extension": ".py"
  },
  "kernelspec": {
   "name": "python3",
   "display_name": "Python 3.8.10 64-bit"
  },
  "interpreter": {
   "hash": "5b3ded1ccb95c1d9bd405e7b823d9e85424cde40fbb5985eb47e999ef50e15b4"
  }
 },
 "nbformat": 4,
 "nbformat_minor": 2
}