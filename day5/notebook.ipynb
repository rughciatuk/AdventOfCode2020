{
 "cells": [
  {
   "cell_type": "code",
   "execution_count": 2,
   "source": [
    "\n",
    "with open('./input') as input_file:\n",
    "    data = input_file.read().split('\\n')[:-1]"
   ],
   "outputs": [],
   "metadata": {}
  },
  {
   "cell_type": "code",
   "execution_count": 6,
   "source": [
    "def get_seat_index(line):\n",
    "    row_info = line[0:7]\n",
    "    col_info = line[7:]\n",
    "\n",
    "    low_row_index = 0\n",
    "    high_row_index = 127\n",
    "    low_col_index = 0\n",
    "    high_col_index = 7\n",
    "\n",
    "    for letter in row_info:\n",
    "        if letter == 'F':\n",
    "            high_row_index = high_row_index - ((high_row_index+1)-low_row_index)//2\n",
    "        elif letter == 'B':\n",
    "            low_row_index = low_row_index + ((high_row_index+1)-low_row_index)//2\n",
    "\n",
    "    for letter in col_info:\n",
    "        if letter == 'L':\n",
    "            high_col_index = high_col_index - ((high_col_index+1)-low_col_index)//2\n",
    "        elif letter == 'R':\n",
    "            low_col_index = low_col_index + ((high_col_index+1)-low_col_index)//2\n",
    "\n",
    "    return high_row_index * 8 + high_col_index"
   ],
   "outputs": [],
   "metadata": {}
  },
  {
   "cell_type": "code",
   "execution_count": 10,
   "source": [
    "seats_numbers = []\n",
    "for line in data:\n",
    "    seats_numbers.append(get_seat_index(line))"
   ],
   "outputs": [],
   "metadata": {}
  },
  {
   "cell_type": "code",
   "execution_count": 12,
   "source": [
    "seats_numbers.sort()"
   ],
   "outputs": [],
   "metadata": {}
  },
  {
   "cell_type": "code",
   "execution_count": 18,
   "source": [
    "answer = 0\n",
    "for i, _ in enumerate(seats_numbers[1:-1], start=1):\n",
    "    if seats_numbers[i] - seats_numbers[i-1] == 2:\n",
    "        answer = seats_numbers[i]  "
   ],
   "outputs": [],
   "metadata": {}
  },
  {
   "cell_type": "code",
   "execution_count": 21,
   "source": [
    "print(seats_numbers.index(answer))\n",
    "print(seats_numbers[493])"
   ],
   "outputs": [
    {
     "output_type": "stream",
     "name": "stdout",
     "text": [
      "494\n",
      "538\n"
     ]
    }
   ],
   "metadata": {}
  }
 ],
 "metadata": {
  "orig_nbformat": 4,
  "language_info": {
   "name": "python",
   "version": "3.8.10",
   "mimetype": "text/x-python",
   "codemirror_mode": {
    "name": "ipython",
    "version": 3
   },
   "pygments_lexer": "ipython3",
   "nbconvert_exporter": "python",
   "file_extension": ".py"
  },
  "kernelspec": {
   "name": "python3",
   "display_name": "Python 3.8.10 64-bit ('.venv': venv)"
  },
  "interpreter": {
   "hash": "656217faa24169005566d946f1b243113add4565c205247ef591cf35299186fd"
  }
 },
 "nbformat": 4,
 "nbformat_minor": 2
}