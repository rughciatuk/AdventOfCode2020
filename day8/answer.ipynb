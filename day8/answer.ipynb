{
 "cells": [
  {
   "cell_type": "code",
   "execution_count": 44,
   "source": [
    "with open('./input') as input_file:\n",
    "    data = input_file.read()"
   ],
   "outputs": [],
   "metadata": {}
  },
  {
   "cell_type": "code",
   "execution_count": 32,
   "source": [
    "data = \"\"\"nop +0\n",
    "acc +1\n",
    "jmp +4\n",
    "acc +3\n",
    "jmp -3\n",
    "acc -99\n",
    "acc +1\n",
    "jmp -4\n",
    "acc +6\"\"\""
   ],
   "outputs": [],
   "metadata": {}
  },
  {
   "cell_type": "code",
   "execution_count": 27,
   "source": [
    "lines = data.splitlines()\n",
    "sip = 0\n",
    "acc = 0\n",
    "ran_ins = set()\n",
    "\n",
    "while sip not in ran_ins:\n",
    "    ran_ins.add(sip)\n",
    "    (op_code, val) = lines[sip].split(\" \")\n",
    "    val = int(val)\n",
    "\n",
    "    if op_code == 'acc':\n",
    "        sip += 1\n",
    "        acc += val\n",
    "    elif op_code == 'jmp':\n",
    "        sip += val\n",
    "    elif op_code == 'nop':\n",
    "        sip += 1\n",
    "\n",
    "print(\"Part 1 answer:\",acc)"
   ],
   "outputs": [
    {
     "output_type": "stream",
     "name": "stdout",
     "text": [
      "Part 1 answer: 1684\n"
     ]
    }
   ],
   "metadata": {}
  },
  {
   "cell_type": "code",
   "execution_count": 33,
   "source": [
    "def check_not_inf_loop(lines):\n",
    "    sip = 0\n",
    "    acc = 0\n",
    "    ran_ins = set()\n",
    "\n",
    "    while sip not in ran_ins:\n",
    "        ran_ins.add(sip)\n",
    "        (op_code, val) = lines[sip].split(\" \")\n",
    "        val = int(val)\n",
    "\n",
    "        if op_code == 'acc':\n",
    "            sip += 1\n",
    "            acc += val\n",
    "        elif op_code == 'jmp':\n",
    "            sip += val\n",
    "        elif op_code == 'nop':\n",
    "            sip += 1\n",
    "        if (sip >= len(lines)):\n",
    "            return acc\n",
    "    return False\n"
   ],
   "outputs": [],
   "metadata": {}
  },
  {
   "cell_type": "code",
   "execution_count": 45,
   "source": [
    "lines = data.splitlines()\n",
    "\n",
    "for index, command in enumerate(lines):\n",
    "    (op_code, val) = command.split(\" \")\n",
    "    if op_code in [\"nop\", \"jmp\"]:\n",
    "        new_lines = lines.copy()\n",
    "        new_lines[index] = f\"{'jmp' if op_code == 'nop' else 'nop'} {val}\"\n",
    "        \n",
    "        cal = check_not_inf_loop(new_lines)\n",
    "        if cal:\n",
    "            print(\"Part 2 answer:\", cal)\n",
    "\n",
    "\n",
    "# check_not_inf_loop(lines)"
   ],
   "outputs": [
    {
     "output_type": "stream",
     "name": "stdout",
     "text": [
      "Part 2 answer: 2188\n"
     ]
    }
   ],
   "metadata": {}
  }
 ],
 "metadata": {
  "orig_nbformat": 4,
  "language_info": {
   "name": "python",
   "version": "3.8.10",
   "mimetype": "text/x-python",
   "codemirror_mode": {
    "name": "ipython",
    "version": 3
   },
   "pygments_lexer": "ipython3",
   "nbconvert_exporter": "python",
   "file_extension": ".py"
  },
  "kernelspec": {
   "name": "python3",
   "display_name": "Python 3.8.10 64-bit"
  },
  "interpreter": {
   "hash": "5b3ded1ccb95c1d9bd405e7b823d9e85424cde40fbb5985eb47e999ef50e15b4"
  }
 },
 "nbformat": 4,
 "nbformat_minor": 2
}